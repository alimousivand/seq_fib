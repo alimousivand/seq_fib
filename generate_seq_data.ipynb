{
 "cells": [
  {
   "cell_type": "code",
   "execution_count": 1,
   "id": "70fc56f4-4d38-4a57-b9a9-c11108a7a25a",
   "metadata": {},
   "outputs": [],
   "source": [
    "import pandas as pd\n",
    "import numpy as np\n",
    "from scipy import stats as st"
   ]
  },
  {
   "cell_type": "code",
   "execution_count": 2,
   "id": "5da0c023-1462-43b4-8577-24b42bbd387a",
   "metadata": {},
   "outputs": [],
   "source": [
    "def price_to_fibo(data,bais,high):\n",
    "    \n",
    "    price=data-bais\n",
    "    fibo=price/abs(bais-high);\n",
    "    if bais>high:\n",
    "        fibo=fibo*-1\n",
    "    return fibo"
   ]
  },
  {
   "cell_type": "code",
   "execution_count": 3,
   "id": "a8f9c4ea-3031-429b-b32a-e22702bae0d4",
   "metadata": {},
   "outputs": [],
   "source": [
    "Path=r'G:\\data\\data_indicator\\xauusd\\zigzag\\XAUUSD_PERIOD_M1(ZigZag,12,5,3).CSV'\n",
    "data=pd.read_csv(Path,encoding='utf-16',sep='\\t')\n"
   ]
  },
  {
   "cell_type": "code",
   "execution_count": 4,
   "id": "eacb6fef-1fa4-401c-88ad-7fe5b71577e9",
   "metadata": {},
   "outputs": [],
   "source": [
    "n_seq=62\n",
    "row_data=len(data) - (n_seq - 1)\n",
    "data_seq=[]\n",
    "for i in range(row_data):\n",
    "        data_seq.append(data.loc[ i:i+n_seq-1 ,'zigzag'].tolist())\n",
    "data_seq=np.array(data_seq)"
   ]
  },
  {
   "cell_type": "code",
   "execution_count": 5,
   "id": "bc15baeb-1871-481a-9caf-05cf02ff66fc",
   "metadata": {},
   "outputs": [],
   "source": [
    "len_rows=len(data_seq)\n",
    "len_columns=len(data_seq[0])\n",
    "data_seq_fibo=[]\n",
    "\n",
    "for i in range(len_rows):\n",
    "    for ii in range(len_columns-1):\n",
    "        x=np.where((data_seq[i]))\n",
    "        x=np.delete(x,[ii,ii+1])\n",
    "        data_seq_fibo.append(\n",
    "            price_to_fibo(\n",
    "                data_seq[i,x],\n",
    "                data_seq[i,ii],\n",
    "                data_seq[i,ii+1]\n",
    "            )\n",
    "        )\n",
    "\n",
    "data_seq_fibo=np.array(data_seq_fibo)  "
   ]
  },
  {
   "cell_type": "code",
   "execution_count": null,
   "id": "5def422a-9c2a-44ae-9e47-12c766dc0ed7",
   "metadata": {},
   "outputs": [],
   "source": [
    "mean=np.mean(data_seq_fibo[:,:-2],axis=1)\n",
    "var=np.var(data_seq_fibo[:,:-2],axis=1)\n",
    "std=np.std(data_seq_fibo[:,:-2],axis=1)\n",
    "mode=st.mode(data_seq_fibo[:,:-2] , axis=1)[0]\n",
    "median=np.median(data_seq_fibo[:,:-2] , axis=1)\n",
    "max=np.max(data_seq_fibo[:,:-2] , axis=1)\n",
    "min=np.min(data_seq_fibo[:,:-2] , axis=1)\n",
    "m_n=max-min\n",
    "kurtosis=st.kurtosis(data_seq_fibo[:,:-2] , axis=1)\n",
    "skew=st.skew(data_seq_fibo[:,:-2] , axis=1)\n",
    "q1=np.percentile(data_seq_fibo[:,:-2],25,axis=1)\n",
    "q3=np.percentile(data_seq_fibo[:,:-2],75,axis=1)\n",
    "iqr=q3-q1\n",
    "\n",
    "amar=np.column_stack([ \n",
    "                mean,\n",
    "                var,\n",
    "                std,\n",
    "                mode,\n",
    "                median,\n",
    "                max,\n",
    "                min,\n",
    "                m_n,\n",
    "                kurtosis,\n",
    "                skew,\n",
    "                q1,\n",
    "                q3,\n",
    "                iqr])\n",
    "    \n"
   ]
  },
  {
   "cell_type": "code",
   "execution_count": null,
   "id": "69f8279b-7aad-4f59-9c94-2c9e0cb1c037",
   "metadata": {},
   "outputs": [],
   "source": [
    "print(len(data_seq_fibo))\n",
    "print(len(amar[0]) + len(data_seq_fibo[0]) )\n",
    "len(amar[0])"
   ]
  },
  {
   "cell_type": "code",
   "execution_count": null,
   "id": "cb53d6c7-a627-460f-ad41-ac913af8b287",
   "metadata": {},
   "outputs": [],
   "source": [
    "DF1 = pd.DataFrame(data_seq_fibo)\n",
    "DF1.to_feather('data_seq_fibo_without_target.feather')\n",
    "DF2 = pd.DataFrame(amar)\n",
    "DF2.to_feather('amar.feather')\n"
   ]
  },
  {
   "cell_type": "code",
   "execution_count": 6,
   "id": "e1761325-e768-43db-865c-992747874e2c",
   "metadata": {},
   "outputs": [],
   "source": [
    "step=-0.5;\n",
    "max_target=10 ;\n",
    "min_target=-10+ step;\n",
    "\n",
    "x=np.arange(max_target,min_target,step).tolist()\n",
    "target=np.zeros( [len(x)-1 , 3] )\n",
    "for i in range(len(x)-1):\n",
    "    target[i,0]=x[i]\n",
    "    target[i,1]=x[i+1]\n",
    "    target[i,2]=i+1"
   ]
  },
  {
   "cell_type": "code",
   "execution_count": 7,
   "id": "22b1e604-fa5b-4a31-b068-72adf12f1994",
   "metadata": {
    "scrolled": true
   },
   "outputs": [],
   "source": [
    "target_col=[58,59]\n",
    "data_seq_fibo2=data_seq_fibo.copy()\n",
    "\n",
    "for i in range(len(target_col)):\n",
    "    data_seq_fibo2=np.hstack((data_seq_fibo2, np.zeros((data_seq_fibo2.shape[0], 1), dtype=data_seq_fibo2.dtype)))\n",
    "    for ii in range(len(target)):\n",
    "        condition1= data_seq_fibo2[:,target_col[i]] <= target[ii,0]\n",
    "        condition2= data_seq_fibo2[:,target_col[i]] >= target[ii,1] \n",
    "        x=np.where(condition1 & condition2)\n",
    "        if(len(x[0]) > 0):\n",
    "            data_seq_fibo2[x[0],-1]=target[ii,2]\n",
    "\n",
    "data_seq_fibo2=np.delete(data_seq_fibo2,target_col,1)"
   ]
  },
  {
   "cell_type": "code",
   "execution_count": 8,
   "id": "a5a37ad9-2dd8-4010-9abc-7233e959d316",
   "metadata": {
    "scrolled": true
   },
   "outputs": [],
   "source": [
    "DF2 = pd.DataFrame(data_seq_fibo2)\n",
    "\n",
    "DF2.to_feather('data_seq_fibo_with_target.feather')"
   ]
  },
  {
   "cell_type": "code",
   "execution_count": null,
   "id": "4e43e913-2a01-4931-8223-33343ca4844b",
   "metadata": {},
   "outputs": [],
   "source": [
    "header = True\n",
    "len\n",
    "for chunk in DF1:\n",
    "\n",
    "    chunk.to_csv(\"ata_seq_fibo_without_target.csv\",\n",
    "        header=header, mode='a')\n",
    "\n",
    "    header = False"
   ]
  }
 ],
 "metadata": {
  "kernelspec": {
   "display_name": "Python 3 (ipykernel)",
   "language": "python",
   "name": "python3"
  },
  "language_info": {
   "codemirror_mode": {
    "name": "ipython",
    "version": 3
   },
   "file_extension": ".py",
   "mimetype": "text/x-python",
   "name": "python",
   "nbconvert_exporter": "python",
   "pygments_lexer": "ipython3",
   "version": "3.10.13"
  }
 },
 "nbformat": 4,
 "nbformat_minor": 5
}
